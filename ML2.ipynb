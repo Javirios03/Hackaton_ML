{
 "cells": [
  {
   "cell_type": "code",
   "execution_count": 37,
   "id": "3b492ae7",
   "metadata": {},
   "outputs": [],
   "source": [
    "import pandas as pd\n",
    "import numpy as np\n",
    "\n",
    "from sklearn.model_selection import train_test_split\n",
    "from sklearn.pipeline import Pipeline\n",
    "from sklearn.impute import SimpleImputer\n",
    "from sklearn.preprocessing import StandardScaler\n",
    "from sklearn.compose import ColumnTransformer\n",
    "from sklearn.model_selection import GridSearchCV\n",
    "\n",
    "from sklearn import svm, neighbors, tree\n",
    "from sklearn.ensemble import RandomForestRegressor, AdaBoostRegressor, BaggingRegressor # ???\n",
    "\n",
    "from sklearn.metrics import accuracy_score"
   ]
  },
  {
   "cell_type": "code",
   "execution_count": 9,
   "id": "f2efd7eb",
   "metadata": {},
   "outputs": [],
   "source": [
    "# DATA EXTRACTION\n",
    "train_df = pd.read_csv('data/TRAIN_DATA.csv', sep=';', encoding='utf_8')\n",
    "final_test_df = pd.read_csv('data/TEST_INPUT.csv', sep=';', encoding='utf_8')"
   ]
  },
  {
   "cell_type": "code",
   "execution_count": 21,
   "id": "de44fb2a",
   "metadata": {},
   "outputs": [],
   "source": [
    "# SPLIT DATA\n",
    "# Data is already sepparated between train and test sets\n",
    "# but we are not provided with the testing results thus we wont use them for testing the models, only to provide final results \n",
    "# that will later be checked. Therefore, split in the train data is still needed.\n",
    "\n",
    "features = list(train_df.columns)\n",
    "target = 'WG'\n",
    "features.remove(target)\n",
    "\n",
    "X = train_df[features]\n",
    "y = train_df[target]\n",
    "\n",
    "X_train, X_test, y_train, y_test = train_test_split(X, y,\n",
    "                                                    test_size=0.2,  \n",
    "                                                    random_state=0,)"
   ]
  },
  {
   "cell_type": "code",
   "execution_count": 28,
   "id": "15ada80b",
   "metadata": {},
   "outputs": [],
   "source": [
    "# PREPROCESSING\n",
    "# We only work with numerical features this time\n",
    "\n",
    "numerical_features = X_train.select_dtypes(include=['float64', 'int']).columns.to_list()\n",
    "numerical_transformer = Pipeline(\n",
    "    steps = [\n",
    "        (\"scaler\", StandardScaler()),\n",
    "        (\"missing_values\", SimpleImputer(strategy=\"mean\")),\n",
    "    ])\n",
    "\n",
    "preprocessor = ColumnTransformer(\n",
    "    transformers=[\n",
    "        (\"num\", numerical_transformer, numerical_features),\n",
    "],\n",
    "    remainder='passthrough'\n",
    ")"
   ]
  },
  {
   "cell_type": "code",
   "execution_count": 38,
   "id": "83c95b12",
   "metadata": {},
   "outputs": [],
   "source": [
    "# REGRESSION MODELS WITH PIPELINE UNION\n",
    "SV = Pipeline(\n",
    "    steps=[(\"preprocessor\", preprocessor), (\"regressor\", svm.SVR())]\n",
    ")\n",
    "\n",
    "Kneighbors = Pipeline(\n",
    "    steps=[(\"preprocessor\", preprocessor), (\"regressor\", neighbors.KNeighborsRegressor())]\n",
    ")\n",
    "\n",
    "Tree = Pipeline(\n",
    "    steps=[(\"preprocessor\", preprocessor), (\"regressor\", tree.DecisionTreeRegressor())]\n",
    ")\n"
   ]
  },
  {
   "cell_type": "code",
   "execution_count": null,
   "id": "cc151898",
   "metadata": {},
   "outputs": [],
   "source": [
    "# PARAM GRID FOR TWO HYPERPARAMETERS\n",
    "\n",
    "SV_param_grid = {\n",
    "    \n",
    "}\n"
   ]
  },
  {
   "cell_type": "code",
   "execution_count": null,
   "id": "a6580c4c",
   "metadata": {},
   "outputs": [],
   "source": []
  },
  {
   "cell_type": "code",
   "execution_count": null,
   "id": "05744cf9",
   "metadata": {},
   "outputs": [],
   "source": []
  },
  {
   "cell_type": "code",
   "execution_count": null,
   "id": "8c75f166",
   "metadata": {},
   "outputs": [],
   "source": []
  },
  {
   "cell_type": "code",
   "execution_count": null,
   "id": "08e3fd53",
   "metadata": {},
   "outputs": [],
   "source": []
  }
 ],
 "metadata": {
  "kernelspec": {
   "display_name": "Python 3 (ipykernel)",
   "language": "python",
   "name": "python3"
  },
  "language_info": {
   "codemirror_mode": {
    "name": "ipython",
    "version": 3
   },
   "file_extension": ".py",
   "mimetype": "text/x-python",
   "name": "python",
   "nbconvert_exporter": "python",
   "pygments_lexer": "ipython3",
   "version": "3.9.7"
  }
 },
 "nbformat": 4,
 "nbformat_minor": 5
}
